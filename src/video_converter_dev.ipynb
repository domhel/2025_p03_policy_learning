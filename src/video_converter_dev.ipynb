{
 "cells": [
  {
   "cell_type": "markdown",
   "id": "96316ca2",
   "metadata": {},
   "source": [
    "# Notes from example\n",
    "- telling names for functions\n",
    "- use type hinting for arguments and function returns\n",
    "- 1 feature per function"
   ]
  },
  {
   "cell_type": "markdown",
   "id": "493d2e22",
   "metadata": {},
   "source": [
    "# TODOs"
   ]
  },
  {
   "cell_type": "markdown",
   "id": "80112e7c",
   "metadata": {},
   "source": [
    "- [ ] dataset import as recommended by Cagatay\n",
    "- [ ] detailed explanation and annotation in english\n",
    "- [ ] Discuss whether post-processing/formatting of the images, e.g. color map, inversion of the grayscale, further processing of the real depth values should be carried out (apply_model)\n",
    "- [ ] Adapt the postfix in job_agent() or the string value of the prediction_models.value if desired\n",
    "\n",
    "Optionals:\n",
    "- OPTIONAL: If desired, integrate a appropriate return value or any feedback messages\n",
    "- OPTIONAL: Alterantive way to work with a file list instead of directory"
   ]
  },
  {
   "cell_type": "markdown",
   "id": "8fc058cd",
   "metadata": {
    "vscode": {
     "languageId": "plaintext"
    }
   },
   "source": [
    "# Produktiv-Code"
   ]
  },
  {
   "cell_type": "code",
   "execution_count": null,
   "id": "df7f217d",
   "metadata": {},
   "outputs": [],
   "source": [
    "import cv2\n",
    "import numpy as np\n",
    "from accelerate.test_utils.testing import get_backend\n",
    "from transformers import pipeline, Pipeline\n",
    "from typing import Optional\n",
    "from PIL import Image\n",
    "from tqdm import tqdm\n",
    "from enum import Enum\n",
    "import glob\n",
    "import os\n",
    "from pathlib import Path\n"
   ]
  },
  {
   "cell_type": "code",
   "execution_count": 65,
   "id": "ead18015",
   "metadata": {},
   "outputs": [],
   "source": [
    "# Video Handling\n",
    "#TODO: Data-Import like in Example\n",
    "\n",
    "def open_video(path: str) -> cv2.VideoCapture:\n",
    "    \"\"\"\n",
    "    Opens a video file using OpenCV.\n",
    "\n",
    "    Args:\n",
    "        path (str): Path to the video file.\n",
    "\n",
    "    Returns:\n",
    "        cv2.VideoCapture: The opened video capture object.\n",
    "\n",
    "    Raises:\n",
    "        RuntimeError: If the video file cannot be opened.\n",
    "    \"\"\"\n",
    "    cap = cv2.VideoCapture(path)\n",
    "    if not cap.isOpened():\n",
    "        print(\"Error: Could not open video.\")\n",
    "        exit()\n",
    "    return cap\n",
    "\n",
    "def next_image_from_video(cap: cv2.VideoCapture) -> Optional[Image.Image]:\n",
    "    ret, frame = cap.read()                                 #frame as array with bgr values\n",
    "    if not ret:                                             #if read was not successfull \n",
    "        return None\n",
    "\n",
    "    frame_rgb = cv2.cvtColor(frame, cv2.COLOR_BGR2RGB)      #Image as Array with RGB Values\n",
    "    image = Image.fromarray(frame_rgb)                      #PIL Image\n",
    "    return image\n",
    "\n",
    "def image_to_video(image: Image.Image, video_writer: cv2.VideoWriter):\n",
    "    #convert the video to the required format\n",
    "    image_np_rgb = np.array(image)\n",
    "    depth_bgr = cv2.cvtColor(image_np_rgb, cv2.COLOR_RGB2BGR)\n",
    "\n",
    "    # write frame to output video file\n",
    "    video_writer.write(depth_bgr)\n",
    "\n",
    "class prediction_models(Enum):\n",
    "    \"\"\"\n",
    "    Enumeration of available prediction model types in our pipeline.\n",
    "\n",
    "    Attributes:\n",
    "        GRAYSCALE: converts the video from rgb to grayscale - for for test purposes, a low-computing alternative\n",
    "        DEPTH_ANYTHING_V2: Represents the 'Depth Anything V2' model with Hugging Face ID 'Depth-Anything-V2-base-hf'.\n",
    "    \"\"\"\n",
    "    GRAYSCALE = \"gray\"\n",
    "    DEPTH_ANYTHING_V2 = \"Depth-Anything-V2-base-hf\"\n",
    "\n",
    "def apply_model(frame: Image.Image ,model_selection: prediction_models) -> Image.Image:\n",
    "    device, _, _ = get_backend()\n",
    "    if model_selection == prediction_models.DEPTH_ANYTHING_V2:\n",
    "        checkpoint = \"depth-anything/Depth-Anything-V2-base-hf\"\n",
    "        pipe = pipeline(\"depth-estimation\", model=checkpoint, device=device)\n",
    "        predictions = pipe(frame)\n",
    "        image_w_pred = predictions['depth']\n",
    "\n",
    "\n",
    "    if model_selection == prediction_models.GRAYSCALE:\n",
    "        image_rgb = np.array(frame)\n",
    "        image_w_pred = Image.fromarray(cv2.cvtColor(image_rgb,cv2.COLOR_RGB2GRAY))\n",
    "        \n",
    "\n",
    "    # If all models are called in the same way via the transformers library/pipeline, we can remove the general part and only put the parameterization in the if clause\n",
    "    \n",
    "    return image_w_pred\n",
    "\n",
    "def get_videowriter(cap: cv2.VideoCapture, target_path: str) -> cv2.VideoWriter:\n",
    "    \"\"\"\n",
    "    Creates a cv2.VideoWriter object based on the properties of an existing VideoCapture.\n",
    "\n",
    "    Args:\n",
    "        cap (cv2.VideoCapture): OpenCV video capture object from which to read properties (width, height, fps).\n",
    "        target_path (str): Path to the output video file (e.g., \"output.mp4\").\n",
    "\n",
    "    Returns:\n",
    "        cv2.VideoWriter: OpenCV video writer object configured with H.264 codec.\n",
    "    \"\"\"\n",
    "    # get the video properties\n",
    "    width = int(cap.get(cv2.CAP_PROP_FRAME_WIDTH))\n",
    "    height = int(cap.get(cv2.CAP_PROP_FRAME_HEIGHT))\n",
    "    fps = cap.get(cv2.CAP_PROP_FPS)\n",
    "    \n",
    "\n",
    "    # set the output stream (MP4 mit H.264 - should provide a good video player compatibility) \n",
    "    fourcc = cv2.VideoWriter_fourcc(*'H264')  \n",
    "    video_writer = cv2.VideoWriter(target_path, fourcc, fps, (width, height), isColor=True)\n",
    "    return video_writer\n",
    "\n",
    "def convert_video(src_path: str, target_path: str,selected_model:prediction_models,test_mode = False):\n",
    "    # run through the video frame by frame, look for errors in the image\n",
    "    cap = open_video(src_path)\n",
    "    frame_count = int(cap.get(cv2.CAP_PROP_FRAME_COUNT))\n",
    "    fps = cap.get(cv2.CAP_PROP_FPS)\n",
    "\n",
    "    #initialize the video output \n",
    "    video_writer = get_videowriter(cap,target_path)\n",
    "\n",
    "    #test_mode: if activated only the first 5 seconds will be converted in order to need less computing time\n",
    "    if test_mode==True:\n",
    "        frame_count = int(5*fps)\n",
    "    fps\n",
    "\n",
    "    for i in tqdm(range(frame_count),desc=\"Run through video frame per frame\"):\n",
    "        frame = next_image_from_video(cap)   #PIL Image\n",
    "        if frame == None:\n",
    "            tqdm.write(\"WARNUNG: Kein weiteres Bild gelesen - Video zu Ende oder Fehler beim Zugriff.\")\n",
    "            break\n",
    "        new_image = apply_model(frame, model_selection=selected_model)\n",
    "        image_to_video(new_image,video_writer)\n",
    "    \n",
    "    cap.release()\n",
    "    video_writer.release() #After release of video_writer the video will be stored\n",
    "\n",
    "def create_target_path(path_file: str,target_dir: str, selected_model: prediction_models) -> str:\n",
    "    path_valid = True\n",
    "    counter = 0\n",
    "    postfix_raw = selected_model.value\n",
    "    postfix = postfix_raw\n",
    "    while(path_valid):\n",
    "        path_valid = False\n",
    "        basename = Path(path_file).stem\n",
    "        target_name = basename+\"_\"+postfix+\".mp4\"\n",
    "        #target_dir = os.path.split(file)[0]\n",
    "        target_dir = target_dir\n",
    "        target_path = target_dir + r\"\\\\\" + target_name\n",
    "        if os.path.exists(target_path):\n",
    "            counter+=1\n",
    "            path_valid = True\n",
    "            postfix = postfix_raw + \"_\"+str(counter)\n",
    "    \n",
    "    return target_path\n",
    "\n",
    "def job_agent(src_directory: str,prediction_models_list: list[prediction_models],target_directory: str):\n",
    "    #OPTIONAL: If desired, integrate a appropriate return value or any feedback messages\n",
    "    #OPTIONAL: Alterantive way to work with a file list instead of directory\n",
    "    #TODO adapt postfix if desired\n",
    "    #not tested yet\n",
    "    mp4_files = glob.glob(os.path.join(src_directory,\"*.mp4\"))\n",
    "    for file in mp4_files:\n",
    "        for model in prediction_models_list:\n",
    "            target_path = create_target_path(file,target_directory,model)\n",
    "            convert_video(file,target_path,model)\n"
   ]
  },
  {
   "cell_type": "code",
   "execution_count": 66,
   "id": "a8b132e0",
   "metadata": {},
   "outputs": [
    {
     "name": "stderr",
     "output_type": "stream",
     "text": [
      "Run through video frame per frame:   0%|          | 0/554 [00:00<?, ?it/s]Device set to use cpu\n",
      "Run through video frame per frame:   0%|          | 1/554 [00:03<35:00,  3.80s/it]Device set to use cpu\n",
      "Run through video frame per frame:   0%|          | 2/554 [00:07<32:30,  3.53s/it]Device set to use cpu\n",
      "Run through video frame per frame:   1%|          | 3/554 [00:10<30:44,  3.35s/it]Device set to use cpu\n",
      "Run through video frame per frame:   1%|          | 4/554 [00:13<30:19,  3.31s/it]Device set to use cpu\n",
      "Run through video frame per frame:   1%|          | 5/554 [00:16<29:20,  3.21s/it]Device set to use cpu\n",
      "Run through video frame per frame:   1%|          | 6/554 [00:19<29:17,  3.21s/it]Device set to use cpu\n",
      "Run through video frame per frame:   1%|▏         | 7/554 [00:23<29:32,  3.24s/it]Device set to use cpu\n",
      "Run through video frame per frame:   1%|▏         | 8/554 [00:26<29:06,  3.20s/it]Device set to use cpu\n",
      "Run through video frame per frame:   2%|▏         | 9/554 [00:29<29:05,  3.20s/it]Device set to use cpu\n",
      "Run through video frame per frame:   2%|▏         | 10/554 [00:32<28:38,  3.16s/it]Device set to use cpu\n",
      "Run through video frame per frame:   2%|▏         | 11/554 [00:35<28:41,  3.17s/it]Device set to use cpu\n",
      "Run through video frame per frame:   2%|▏         | 12/554 [00:38<29:03,  3.22s/it]Device set to use cpu\n",
      "Run through video frame per frame:   2%|▏         | 13/554 [00:42<29:28,  3.27s/it]Device set to use cpu\n",
      "Run through video frame per frame:   3%|▎         | 14/554 [00:45<29:38,  3.29s/it]Device set to use cpu\n",
      "Run through video frame per frame:   3%|▎         | 15/554 [00:48<29:09,  3.25s/it]Device set to use cpu\n",
      "Run through video frame per frame:   3%|▎         | 16/554 [00:52<30:08,  3.36s/it]Device set to use cpu\n",
      "Run through video frame per frame:   3%|▎         | 17/554 [00:55<29:09,  3.26s/it]Device set to use cpu\n",
      "Run through video frame per frame:   3%|▎         | 18/554 [00:58<29:30,  3.30s/it]Device set to use cpu\n",
      "Run through video frame per frame:   3%|▎         | 19/554 [01:02<29:19,  3.29s/it]\n"
     ]
    },
    {
     "ename": "KeyboardInterrupt",
     "evalue": "",
     "output_type": "error",
     "traceback": [
      "\u001b[31m---------------------------------------------------------------------------\u001b[39m",
      "\u001b[31mKeyboardInterrupt\u001b[39m                         Traceback (most recent call last)",
      "\u001b[36mCell\u001b[39m\u001b[36m \u001b[39m\u001b[32mIn[66]\u001b[39m\u001b[32m, line 5\u001b[39m\n\u001b[32m      3\u001b[39m prediction_models_list = [prediction_models.DEPTH_ANYTHING_V2]\n\u001b[32m      4\u001b[39m target_directory = \u001b[33mr\u001b[39m\u001b[33m\"\u001b[39m\u001b[33mC:\u001b[39m\u001b[33m\\\u001b[39m\u001b[33mUsers\u001b[39m\u001b[33m\\\u001b[39m\u001b[33mlehrm\u001b[39m\u001b[33m\\\u001b[39m\u001b[33mDaten\u001b[39m\u001b[33m\\\u001b[39m\u001b[33mArbeit_u_Studium\u001b[39m\u001b[33m\\\u001b[39m\u001b[33mStudium\u001b[39m\u001b[33m\\\u001b[39m\u001b[33m5_Master_lokal\u001b[39m\u001b[33m\\\u001b[39m\u001b[33mrepos\u001b[39m\u001b[33m\\\u001b[39m\u001b[33m2025_p03_policy_learning\u001b[39m\u001b[33m\\\u001b[39m\u001b[33moutput\u001b[39m\u001b[33m\"\u001b[39m\n\u001b[32m----> \u001b[39m\u001b[32m5\u001b[39m \u001b[43mjob_agent\u001b[49m\u001b[43m(\u001b[49m\u001b[43msrc_directory\u001b[49m\u001b[43m,\u001b[49m\u001b[43mprediction_models_list\u001b[49m\u001b[43m,\u001b[49m\u001b[43mtarget_directory\u001b[49m\u001b[43m)\u001b[49m\n",
      "\u001b[36mCell\u001b[39m\u001b[36m \u001b[39m\u001b[32mIn[65]\u001b[39m\u001b[32m, line 144\u001b[39m, in \u001b[36mjob_agent\u001b[39m\u001b[34m(src_directory, prediction_models_list, target_directory)\u001b[39m\n\u001b[32m    142\u001b[39m \u001b[38;5;28;01mfor\u001b[39;00m model \u001b[38;5;129;01min\u001b[39;00m prediction_models_list:\n\u001b[32m    143\u001b[39m     target_path = create_target_path(file,target_directory,model)\n\u001b[32m--> \u001b[39m\u001b[32m144\u001b[39m     \u001b[43mconvert_video\u001b[49m\u001b[43m(\u001b[49m\u001b[43mfile\u001b[49m\u001b[43m,\u001b[49m\u001b[43mtarget_path\u001b[49m\u001b[43m,\u001b[49m\u001b[43mmodel\u001b[49m\u001b[43m)\u001b[49m\n",
      "\u001b[36mCell\u001b[39m\u001b[36m \u001b[39m\u001b[32mIn[65]\u001b[39m\u001b[32m, line 110\u001b[39m, in \u001b[36mconvert_video\u001b[39m\u001b[34m(src_path, target_path, selected_model, test_mode)\u001b[39m\n\u001b[32m    108\u001b[39m         tqdm.write(\u001b[33m\"\u001b[39m\u001b[33mWARNUNG: Kein weiteres Bild gelesen - Video zu Ende oder Fehler beim Zugriff.\u001b[39m\u001b[33m\"\u001b[39m)\n\u001b[32m    109\u001b[39m         \u001b[38;5;28;01mbreak\u001b[39;00m\n\u001b[32m--> \u001b[39m\u001b[32m110\u001b[39m     new_image = \u001b[43mapply_model\u001b[49m\u001b[43m(\u001b[49m\u001b[43mframe\u001b[49m\u001b[43m,\u001b[49m\u001b[43m \u001b[49m\u001b[43mmodel_selection\u001b[49m\u001b[43m=\u001b[49m\u001b[43mselected_model\u001b[49m\u001b[43m)\u001b[49m\n\u001b[32m    111\u001b[39m     image_to_video(new_image,video_writer)\n\u001b[32m    113\u001b[39m cap.release()\n",
      "\u001b[36mCell\u001b[39m\u001b[36m \u001b[39m\u001b[32mIn[65]\u001b[39m\u001b[32m, line 55\u001b[39m, in \u001b[36mapply_model\u001b[39m\u001b[34m(frame, model_selection)\u001b[39m\n\u001b[32m     53\u001b[39m \u001b[38;5;28;01mif\u001b[39;00m model_selection == prediction_models.DEPTH_ANYTHING_V2:\n\u001b[32m     54\u001b[39m     checkpoint = \u001b[33m\"\u001b[39m\u001b[33mdepth-anything/Depth-Anything-V2-base-hf\u001b[39m\u001b[33m\"\u001b[39m\n\u001b[32m---> \u001b[39m\u001b[32m55\u001b[39m     pipe = \u001b[43mpipeline\u001b[49m\u001b[43m(\u001b[49m\u001b[33;43m\"\u001b[39;49m\u001b[33;43mdepth-estimation\u001b[39;49m\u001b[33;43m\"\u001b[39;49m\u001b[43m,\u001b[49m\u001b[43m \u001b[49m\u001b[43mmodel\u001b[49m\u001b[43m=\u001b[49m\u001b[43mcheckpoint\u001b[49m\u001b[43m,\u001b[49m\u001b[43m \u001b[49m\u001b[43mdevice\u001b[49m\u001b[43m=\u001b[49m\u001b[43mdevice\u001b[49m\u001b[43m)\u001b[49m\n\u001b[32m     56\u001b[39m     predictions = pipe(frame)\n\u001b[32m     57\u001b[39m     image_w_pred = predictions[\u001b[33m'\u001b[39m\u001b[33mdepth\u001b[39m\u001b[33m'\u001b[39m]\n",
      "\u001b[36mFile \u001b[39m\u001b[32mc:\\Users\\lehrm\\Daten\\Arbeit_u_Studium\\Studium\\5_Master_lokal\\repos\\2025_p03_policy_learning\\.venv\\Lib\\site-packages\\transformers\\pipelines\\__init__.py:942\u001b[39m, in \u001b[36mpipeline\u001b[39m\u001b[34m(task, model, config, tokenizer, feature_extractor, image_processor, processor, framework, revision, use_fast, token, device, device_map, torch_dtype, trust_remote_code, model_kwargs, pipeline_class, **kwargs)\u001b[39m\n\u001b[32m    940\u001b[39m \u001b[38;5;28;01mif\u001b[39;00m \u001b[38;5;28misinstance\u001b[39m(model, \u001b[38;5;28mstr\u001b[39m) \u001b[38;5;129;01mor\u001b[39;00m framework \u001b[38;5;129;01mis\u001b[39;00m \u001b[38;5;28;01mNone\u001b[39;00m:\n\u001b[32m    941\u001b[39m     model_classes = {\u001b[33m\"\u001b[39m\u001b[33mtf\u001b[39m\u001b[33m\"\u001b[39m: targeted_task[\u001b[33m\"\u001b[39m\u001b[33mtf\u001b[39m\u001b[33m\"\u001b[39m], \u001b[33m\"\u001b[39m\u001b[33mpt\u001b[39m\u001b[33m\"\u001b[39m: targeted_task[\u001b[33m\"\u001b[39m\u001b[33mpt\u001b[39m\u001b[33m\"\u001b[39m]}\n\u001b[32m--> \u001b[39m\u001b[32m942\u001b[39m     framework, model = \u001b[43minfer_framework_load_model\u001b[49m\u001b[43m(\u001b[49m\n\u001b[32m    943\u001b[39m \u001b[43m        \u001b[49m\u001b[43madapter_path\u001b[49m\u001b[43m \u001b[49m\u001b[38;5;28;43;01mif\u001b[39;49;00m\u001b[43m \u001b[49m\u001b[43madapter_path\u001b[49m\u001b[43m \u001b[49m\u001b[38;5;129;43;01mis\u001b[39;49;00m\u001b[43m \u001b[49m\u001b[38;5;129;43;01mnot\u001b[39;49;00m\u001b[43m \u001b[49m\u001b[38;5;28;43;01mNone\u001b[39;49;00m\u001b[43m \u001b[49m\u001b[38;5;28;43;01melse\u001b[39;49;00m\u001b[43m \u001b[49m\u001b[43mmodel\u001b[49m\u001b[43m,\u001b[49m\n\u001b[32m    944\u001b[39m \u001b[43m        \u001b[49m\u001b[43mmodel_classes\u001b[49m\u001b[43m=\u001b[49m\u001b[43mmodel_classes\u001b[49m\u001b[43m,\u001b[49m\n\u001b[32m    945\u001b[39m \u001b[43m        \u001b[49m\u001b[43mconfig\u001b[49m\u001b[43m=\u001b[49m\u001b[43mconfig\u001b[49m\u001b[43m,\u001b[49m\n\u001b[32m    946\u001b[39m \u001b[43m        \u001b[49m\u001b[43mframework\u001b[49m\u001b[43m=\u001b[49m\u001b[43mframework\u001b[49m\u001b[43m,\u001b[49m\n\u001b[32m    947\u001b[39m \u001b[43m        \u001b[49m\u001b[43mtask\u001b[49m\u001b[43m=\u001b[49m\u001b[43mtask\u001b[49m\u001b[43m,\u001b[49m\n\u001b[32m    948\u001b[39m \u001b[43m        \u001b[49m\u001b[43m*\u001b[49m\u001b[43m*\u001b[49m\u001b[43mhub_kwargs\u001b[49m\u001b[43m,\u001b[49m\n\u001b[32m    949\u001b[39m \u001b[43m        \u001b[49m\u001b[43m*\u001b[49m\u001b[43m*\u001b[49m\u001b[43mmodel_kwargs\u001b[49m\u001b[43m,\u001b[49m\n\u001b[32m    950\u001b[39m \u001b[43m    \u001b[49m\u001b[43m)\u001b[49m\n\u001b[32m    952\u001b[39m model_config = model.config\n\u001b[32m    953\u001b[39m hub_kwargs[\u001b[33m\"\u001b[39m\u001b[33m_commit_hash\u001b[39m\u001b[33m\"\u001b[39m] = model.config._commit_hash\n",
      "\u001b[36mFile \u001b[39m\u001b[32mc:\\Users\\lehrm\\Daten\\Arbeit_u_Studium\\Studium\\5_Master_lokal\\repos\\2025_p03_policy_learning\\.venv\\Lib\\site-packages\\transformers\\pipelines\\base.py:291\u001b[39m, in \u001b[36minfer_framework_load_model\u001b[39m\u001b[34m(model, config, model_classes, task, framework, **model_kwargs)\u001b[39m\n\u001b[32m    285\u001b[39m     logger.warning(\n\u001b[32m    286\u001b[39m         \u001b[33m\"\u001b[39m\u001b[33mModel might be a PyTorch model (ending with `.bin`) but PyTorch is not available. \u001b[39m\u001b[33m\"\u001b[39m\n\u001b[32m    287\u001b[39m         \u001b[33m\"\u001b[39m\u001b[33mTrying to load the model with Tensorflow.\u001b[39m\u001b[33m\"\u001b[39m\n\u001b[32m    288\u001b[39m     )\n\u001b[32m    290\u001b[39m \u001b[38;5;28;01mtry\u001b[39;00m:\n\u001b[32m--> \u001b[39m\u001b[32m291\u001b[39m     model = \u001b[43mmodel_class\u001b[49m\u001b[43m.\u001b[49m\u001b[43mfrom_pretrained\u001b[49m\u001b[43m(\u001b[49m\u001b[43mmodel\u001b[49m\u001b[43m,\u001b[49m\u001b[43m \u001b[49m\u001b[43m*\u001b[49m\u001b[43m*\u001b[49m\u001b[43mkwargs\u001b[49m\u001b[43m)\u001b[49m\n\u001b[32m    292\u001b[39m     \u001b[38;5;28;01mif\u001b[39;00m \u001b[38;5;28mhasattr\u001b[39m(model, \u001b[33m\"\u001b[39m\u001b[33meval\u001b[39m\u001b[33m\"\u001b[39m):\n\u001b[32m    293\u001b[39m         model = model.eval()\n",
      "\u001b[36mFile \u001b[39m\u001b[32mc:\\Users\\lehrm\\Daten\\Arbeit_u_Studium\\Studium\\5_Master_lokal\\repos\\2025_p03_policy_learning\\.venv\\Lib\\site-packages\\transformers\\models\\auto\\auto_factory.py:571\u001b[39m, in \u001b[36m_BaseAutoModelClass.from_pretrained\u001b[39m\u001b[34m(cls, pretrained_model_name_or_path, *model_args, **kwargs)\u001b[39m\n\u001b[32m    569\u001b[39m     \u001b[38;5;28;01mif\u001b[39;00m model_class.config_class == config.sub_configs.get(\u001b[33m\"\u001b[39m\u001b[33mtext_config\u001b[39m\u001b[33m\"\u001b[39m, \u001b[38;5;28;01mNone\u001b[39;00m):\n\u001b[32m    570\u001b[39m         config = config.get_text_config()\n\u001b[32m--> \u001b[39m\u001b[32m571\u001b[39m     \u001b[38;5;28;01mreturn\u001b[39;00m \u001b[43mmodel_class\u001b[49m\u001b[43m.\u001b[49m\u001b[43mfrom_pretrained\u001b[49m\u001b[43m(\u001b[49m\n\u001b[32m    572\u001b[39m \u001b[43m        \u001b[49m\u001b[43mpretrained_model_name_or_path\u001b[49m\u001b[43m,\u001b[49m\u001b[43m \u001b[49m\u001b[43m*\u001b[49m\u001b[43mmodel_args\u001b[49m\u001b[43m,\u001b[49m\u001b[43m \u001b[49m\u001b[43mconfig\u001b[49m\u001b[43m=\u001b[49m\u001b[43mconfig\u001b[49m\u001b[43m,\u001b[49m\u001b[43m \u001b[49m\u001b[43m*\u001b[49m\u001b[43m*\u001b[49m\u001b[43mhub_kwargs\u001b[49m\u001b[43m,\u001b[49m\u001b[43m \u001b[49m\u001b[43m*\u001b[49m\u001b[43m*\u001b[49m\u001b[43mkwargs\u001b[49m\n\u001b[32m    573\u001b[39m \u001b[43m    \u001b[49m\u001b[43m)\u001b[49m\n\u001b[32m    574\u001b[39m \u001b[38;5;28;01mraise\u001b[39;00m \u001b[38;5;167;01mValueError\u001b[39;00m(\n\u001b[32m    575\u001b[39m     \u001b[33mf\u001b[39m\u001b[33m\"\u001b[39m\u001b[33mUnrecognized configuration class \u001b[39m\u001b[38;5;132;01m{\u001b[39;00mconfig.\u001b[34m__class__\u001b[39m\u001b[38;5;132;01m}\u001b[39;00m\u001b[33m for this kind of AutoModel: \u001b[39m\u001b[38;5;132;01m{\u001b[39;00m\u001b[38;5;28mcls\u001b[39m.\u001b[34m__name__\u001b[39m\u001b[38;5;132;01m}\u001b[39;00m\u001b[33m.\u001b[39m\u001b[38;5;130;01m\\n\u001b[39;00m\u001b[33m\"\u001b[39m\n\u001b[32m    576\u001b[39m     \u001b[33mf\u001b[39m\u001b[33m\"\u001b[39m\u001b[33mModel type should be one of \u001b[39m\u001b[38;5;132;01m{\u001b[39;00m\u001b[33m'\u001b[39m\u001b[33m, \u001b[39m\u001b[33m'\u001b[39m.join(c.\u001b[34m__name__\u001b[39m\u001b[38;5;250m \u001b[39m\u001b[38;5;28;01mfor\u001b[39;00m\u001b[38;5;250m \u001b[39mc\u001b[38;5;250m \u001b[39m\u001b[38;5;129;01min\u001b[39;00m\u001b[38;5;250m \u001b[39m\u001b[38;5;28mcls\u001b[39m._model_mapping.keys())\u001b[38;5;132;01m}\u001b[39;00m\u001b[33m.\u001b[39m\u001b[33m\"\u001b[39m\n\u001b[32m    577\u001b[39m )\n",
      "\u001b[36mFile \u001b[39m\u001b[32mc:\\Users\\lehrm\\Daten\\Arbeit_u_Studium\\Studium\\5_Master_lokal\\repos\\2025_p03_policy_learning\\.venv\\Lib\\site-packages\\transformers\\modeling_utils.py:279\u001b[39m, in \u001b[36mrestore_default_torch_dtype.<locals>._wrapper\u001b[39m\u001b[34m(*args, **kwargs)\u001b[39m\n\u001b[32m    277\u001b[39m old_dtype = torch.get_default_dtype()\n\u001b[32m    278\u001b[39m \u001b[38;5;28;01mtry\u001b[39;00m:\n\u001b[32m--> \u001b[39m\u001b[32m279\u001b[39m     \u001b[38;5;28;01mreturn\u001b[39;00m \u001b[43mfunc\u001b[49m\u001b[43m(\u001b[49m\u001b[43m*\u001b[49m\u001b[43margs\u001b[49m\u001b[43m,\u001b[49m\u001b[43m \u001b[49m\u001b[43m*\u001b[49m\u001b[43m*\u001b[49m\u001b[43mkwargs\u001b[49m\u001b[43m)\u001b[49m\n\u001b[32m    280\u001b[39m \u001b[38;5;28;01mfinally\u001b[39;00m:\n\u001b[32m    281\u001b[39m     torch.set_default_dtype(old_dtype)\n",
      "\u001b[36mFile \u001b[39m\u001b[32mc:\\Users\\lehrm\\Daten\\Arbeit_u_Studium\\Studium\\5_Master_lokal\\repos\\2025_p03_policy_learning\\.venv\\Lib\\site-packages\\transformers\\modeling_utils.py:4399\u001b[39m, in \u001b[36mPreTrainedModel.from_pretrained\u001b[39m\u001b[34m(cls, pretrained_model_name_or_path, config, cache_dir, ignore_mismatched_sizes, force_download, local_files_only, token, revision, use_safetensors, weights_only, *model_args, **kwargs)\u001b[39m\n\u001b[32m   4389\u001b[39m     \u001b[38;5;28;01mif\u001b[39;00m dtype_orig \u001b[38;5;129;01mis\u001b[39;00m \u001b[38;5;129;01mnot\u001b[39;00m \u001b[38;5;28;01mNone\u001b[39;00m:\n\u001b[32m   4390\u001b[39m         torch.set_default_dtype(dtype_orig)\n\u001b[32m   4392\u001b[39m     (\n\u001b[32m   4393\u001b[39m         model,\n\u001b[32m   4394\u001b[39m         missing_keys,\n\u001b[32m   4395\u001b[39m         unexpected_keys,\n\u001b[32m   4396\u001b[39m         mismatched_keys,\n\u001b[32m   4397\u001b[39m         offload_index,\n\u001b[32m   4398\u001b[39m         error_msgs,\n\u001b[32m-> \u001b[39m\u001b[32m4399\u001b[39m     ) = \u001b[38;5;28;43mcls\u001b[39;49m\u001b[43m.\u001b[49m\u001b[43m_load_pretrained_model\u001b[49m\u001b[43m(\u001b[49m\n\u001b[32m   4400\u001b[39m \u001b[43m        \u001b[49m\u001b[43mmodel\u001b[49m\u001b[43m,\u001b[49m\n\u001b[32m   4401\u001b[39m \u001b[43m        \u001b[49m\u001b[43mstate_dict\u001b[49m\u001b[43m,\u001b[49m\n\u001b[32m   4402\u001b[39m \u001b[43m        \u001b[49m\u001b[43mcheckpoint_files\u001b[49m\u001b[43m,\u001b[49m\n\u001b[32m   4403\u001b[39m \u001b[43m        \u001b[49m\u001b[43mpretrained_model_name_or_path\u001b[49m\u001b[43m,\u001b[49m\n\u001b[32m   4404\u001b[39m \u001b[43m        \u001b[49m\u001b[43mignore_mismatched_sizes\u001b[49m\u001b[43m=\u001b[49m\u001b[43mignore_mismatched_sizes\u001b[49m\u001b[43m,\u001b[49m\n\u001b[32m   4405\u001b[39m \u001b[43m        \u001b[49m\u001b[43msharded_metadata\u001b[49m\u001b[43m=\u001b[49m\u001b[43msharded_metadata\u001b[49m\u001b[43m,\u001b[49m\n\u001b[32m   4406\u001b[39m \u001b[43m        \u001b[49m\u001b[43mdevice_map\u001b[49m\u001b[43m=\u001b[49m\u001b[43mdevice_map\u001b[49m\u001b[43m,\u001b[49m\n\u001b[32m   4407\u001b[39m \u001b[43m        \u001b[49m\u001b[43mdisk_offload_folder\u001b[49m\u001b[43m=\u001b[49m\u001b[43moffload_folder\u001b[49m\u001b[43m,\u001b[49m\n\u001b[32m   4408\u001b[39m \u001b[43m        \u001b[49m\u001b[43moffload_state_dict\u001b[49m\u001b[43m=\u001b[49m\u001b[43moffload_state_dict\u001b[49m\u001b[43m,\u001b[49m\n\u001b[32m   4409\u001b[39m \u001b[43m        \u001b[49m\u001b[43mdtype\u001b[49m\u001b[43m=\u001b[49m\u001b[43mtorch_dtype\u001b[49m\u001b[43m,\u001b[49m\n\u001b[32m   4410\u001b[39m \u001b[43m        \u001b[49m\u001b[43mhf_quantizer\u001b[49m\u001b[43m=\u001b[49m\u001b[43mhf_quantizer\u001b[49m\u001b[43m,\u001b[49m\n\u001b[32m   4411\u001b[39m \u001b[43m        \u001b[49m\u001b[43mkeep_in_fp32_regex\u001b[49m\u001b[43m=\u001b[49m\u001b[43mkeep_in_fp32_regex\u001b[49m\u001b[43m,\u001b[49m\n\u001b[32m   4412\u001b[39m \u001b[43m        \u001b[49m\u001b[43mdevice_mesh\u001b[49m\u001b[43m=\u001b[49m\u001b[43mdevice_mesh\u001b[49m\u001b[43m,\u001b[49m\n\u001b[32m   4413\u001b[39m \u001b[43m        \u001b[49m\u001b[43mkey_mapping\u001b[49m\u001b[43m=\u001b[49m\u001b[43mkey_mapping\u001b[49m\u001b[43m,\u001b[49m\n\u001b[32m   4414\u001b[39m \u001b[43m        \u001b[49m\u001b[43mweights_only\u001b[49m\u001b[43m=\u001b[49m\u001b[43mweights_only\u001b[49m\u001b[43m,\u001b[49m\n\u001b[32m   4415\u001b[39m \u001b[43m    \u001b[49m\u001b[43m)\u001b[49m\n\u001b[32m   4417\u001b[39m \u001b[38;5;66;03m# make sure token embedding weights are still tied if needed\u001b[39;00m\n\u001b[32m   4418\u001b[39m model.tie_weights()\n",
      "\u001b[36mFile \u001b[39m\u001b[32mc:\\Users\\lehrm\\Daten\\Arbeit_u_Studium\\Studium\\5_Master_lokal\\repos\\2025_p03_policy_learning\\.venv\\Lib\\site-packages\\transformers\\modeling_utils.py:4833\u001b[39m, in \u001b[36mPreTrainedModel._load_pretrained_model\u001b[39m\u001b[34m(cls, model, state_dict, checkpoint_files, pretrained_model_name_or_path, ignore_mismatched_sizes, sharded_metadata, device_map, disk_offload_folder, offload_state_dict, dtype, hf_quantizer, keep_in_fp32_regex, device_mesh, key_mapping, weights_only)\u001b[39m\n\u001b[32m   4831\u001b[39m \u001b[38;5;66;03m# Skip it with fsdp on ranks other than 0\u001b[39;00m\n\u001b[32m   4832\u001b[39m \u001b[38;5;28;01melif\u001b[39;00m \u001b[38;5;129;01mnot\u001b[39;00m (is_fsdp_enabled() \u001b[38;5;129;01mand\u001b[39;00m \u001b[38;5;129;01mnot\u001b[39;00m is_local_dist_rank_0() \u001b[38;5;129;01mand\u001b[39;00m \u001b[38;5;129;01mnot\u001b[39;00m is_quantized):\n\u001b[32m-> \u001b[39m\u001b[32m4833\u001b[39m     disk_offload_index, cpu_offload_index = \u001b[43m_load_state_dict_into_meta_model\u001b[49m\u001b[43m(\u001b[49m\n\u001b[32m   4834\u001b[39m \u001b[43m        \u001b[49m\u001b[43mmodel_to_load\u001b[49m\u001b[43m,\u001b[49m\n\u001b[32m   4835\u001b[39m \u001b[43m        \u001b[49m\u001b[43mstate_dict\u001b[49m\u001b[43m,\u001b[49m\n\u001b[32m   4836\u001b[39m \u001b[43m        \u001b[49m\u001b[43mshard_file\u001b[49m\u001b[43m,\u001b[49m\n\u001b[32m   4837\u001b[39m \u001b[43m        \u001b[49m\u001b[43mexpected_keys\u001b[49m\u001b[43m,\u001b[49m\n\u001b[32m   4838\u001b[39m \u001b[43m        \u001b[49m\u001b[43mreverse_key_renaming_mapping\u001b[49m\u001b[43m,\u001b[49m\n\u001b[32m   4839\u001b[39m \u001b[43m        \u001b[49m\u001b[43mdevice_map\u001b[49m\u001b[43m=\u001b[49m\u001b[43mdevice_map\u001b[49m\u001b[43m,\u001b[49m\n\u001b[32m   4840\u001b[39m \u001b[43m        \u001b[49m\u001b[43mdisk_offload_folder\u001b[49m\u001b[43m=\u001b[49m\u001b[43mdisk_offload_folder\u001b[49m\u001b[43m,\u001b[49m\n\u001b[32m   4841\u001b[39m \u001b[43m        \u001b[49m\u001b[43mdisk_offload_index\u001b[49m\u001b[43m=\u001b[49m\u001b[43mdisk_offload_index\u001b[49m\u001b[43m,\u001b[49m\n\u001b[32m   4842\u001b[39m \u001b[43m        \u001b[49m\u001b[43mcpu_offload_folder\u001b[49m\u001b[43m=\u001b[49m\u001b[43mcpu_offload_folder\u001b[49m\u001b[43m,\u001b[49m\n\u001b[32m   4843\u001b[39m \u001b[43m        \u001b[49m\u001b[43mcpu_offload_index\u001b[49m\u001b[43m=\u001b[49m\u001b[43mcpu_offload_index\u001b[49m\u001b[43m,\u001b[49m\n\u001b[32m   4844\u001b[39m \u001b[43m        \u001b[49m\u001b[43mhf_quantizer\u001b[49m\u001b[43m=\u001b[49m\u001b[43mhf_quantizer\u001b[49m\u001b[43m,\u001b[49m\n\u001b[32m   4845\u001b[39m \u001b[43m        \u001b[49m\u001b[43mis_safetensors\u001b[49m\u001b[43m=\u001b[49m\u001b[43mis_offloaded_safetensors\u001b[49m\u001b[43m,\u001b[49m\n\u001b[32m   4846\u001b[39m \u001b[43m        \u001b[49m\u001b[43mkeep_in_fp32_regex\u001b[49m\u001b[43m=\u001b[49m\u001b[43mkeep_in_fp32_regex\u001b[49m\u001b[43m,\u001b[49m\n\u001b[32m   4847\u001b[39m \u001b[43m        \u001b[49m\u001b[43munexpected_keys\u001b[49m\u001b[43m=\u001b[49m\u001b[43munexpected_keys\u001b[49m\u001b[43m,\u001b[49m\n\u001b[32m   4848\u001b[39m \u001b[43m        \u001b[49m\u001b[43mdevice_mesh\u001b[49m\u001b[43m=\u001b[49m\u001b[43mdevice_mesh\u001b[49m\u001b[43m,\u001b[49m\n\u001b[32m   4849\u001b[39m \u001b[43m    \u001b[49m\u001b[43m)\u001b[49m\n\u001b[32m   4851\u001b[39m \u001b[38;5;66;03m# force memory release if loading multiple shards, to avoid having 2 state dicts in memory in next loop\u001b[39;00m\n\u001b[32m   4852\u001b[39m \u001b[38;5;28;01mdel\u001b[39;00m state_dict\n",
      "\u001b[36mFile \u001b[39m\u001b[32mc:\\Users\\lehrm\\Daten\\Arbeit_u_Studium\\Studium\\5_Master_lokal\\repos\\2025_p03_policy_learning\\.venv\\Lib\\site-packages\\torch\\utils\\_contextlib.py:116\u001b[39m, in \u001b[36mcontext_decorator.<locals>.decorate_context\u001b[39m\u001b[34m(*args, **kwargs)\u001b[39m\n\u001b[32m    113\u001b[39m \u001b[38;5;129m@functools\u001b[39m.wraps(func)\n\u001b[32m    114\u001b[39m \u001b[38;5;28;01mdef\u001b[39;00m\u001b[38;5;250m \u001b[39m\u001b[34mdecorate_context\u001b[39m(*args, **kwargs):\n\u001b[32m    115\u001b[39m     \u001b[38;5;28;01mwith\u001b[39;00m ctx_factory():\n\u001b[32m--> \u001b[39m\u001b[32m116\u001b[39m         \u001b[38;5;28;01mreturn\u001b[39;00m \u001b[43mfunc\u001b[49m\u001b[43m(\u001b[49m\u001b[43m*\u001b[49m\u001b[43margs\u001b[49m\u001b[43m,\u001b[49m\u001b[43m \u001b[49m\u001b[43m*\u001b[49m\u001b[43m*\u001b[49m\u001b[43mkwargs\u001b[49m\u001b[43m)\u001b[49m\n",
      "\u001b[36mFile \u001b[39m\u001b[32mc:\\Users\\lehrm\\Daten\\Arbeit_u_Studium\\Studium\\5_Master_lokal\\repos\\2025_p03_policy_learning\\.venv\\Lib\\site-packages\\transformers\\modeling_utils.py:789\u001b[39m, in \u001b[36m_load_state_dict_into_meta_model\u001b[39m\u001b[34m(model, state_dict, shard_file, expected_keys, reverse_renaming_mapping, device_map, disk_offload_folder, disk_offload_index, cpu_offload_folder, cpu_offload_index, hf_quantizer, is_safetensors, keep_in_fp32_regex, unexpected_keys, device_mesh)\u001b[39m\n\u001b[32m    787\u001b[39m param = param[...]\n\u001b[32m    788\u001b[39m \u001b[38;5;28;01mif\u001b[39;00m casting_dtype \u001b[38;5;129;01mis\u001b[39;00m \u001b[38;5;129;01mnot\u001b[39;00m \u001b[38;5;28;01mNone\u001b[39;00m:\n\u001b[32m--> \u001b[39m\u001b[32m789\u001b[39m     param = \u001b[43mparam\u001b[49m\u001b[43m.\u001b[49m\u001b[43mto\u001b[49m\u001b[43m(\u001b[49m\u001b[43mcasting_dtype\u001b[49m\u001b[43m)\u001b[49m\n\u001b[32m    790\u001b[39m \u001b[38;5;28;01mif\u001b[39;00m to_contiguous:\n\u001b[32m    791\u001b[39m     param = param.contiguous()\n",
      "\u001b[31mKeyboardInterrupt\u001b[39m: "
     ]
    }
   ],
   "source": [
    "#example\n",
    "src_directory = r\"C:\\Users\\lehrm\\Daten\\Arbeit_u_Studium\\Studium\\5_Master_lokal\\repos\\2025_p03_policy_learning\\dataset\\studytable_open_drawer\\videos\\chunk-000\\observation.image.camera1_img\"\n",
    "prediction_models_list = [prediction_models.DEPTH_ANYTHING_V2]\n",
    "target_directory = r\"C:\\Users\\lehrm\\Daten\\Arbeit_u_Studium\\Studium\\5_Master_lokal\\repos\\2025_p03_policy_learning\\output\"\n",
    "job_agent(src_directory,prediction_models_list,target_directory)"
   ]
  },
  {
   "cell_type": "markdown",
   "id": "9aa661af",
   "metadata": {
    "vscode": {
     "languageId": "plaintext"
    }
   },
   "source": [
    "# Test Snippets"
   ]
  },
  {
   "cell_type": "markdown",
   "id": "e695fb87",
   "metadata": {},
   "source": [
    "### Extract single example image"
   ]
  },
  {
   "cell_type": "code",
   "execution_count": 5,
   "id": "5442d152",
   "metadata": {},
   "outputs": [
    {
     "data": {
      "application/vnd.microsoft.datawrangler.viewer.v0+json": {
       "columns": [
        {
         "name": "index",
         "rawType": "int64",
         "type": "integer"
        },
        {
         "name": "Breite (px)",
         "rawType": "int64",
         "type": "integer"
        },
        {
         "name": "Höhe (px)",
         "rawType": "int64",
         "type": "integer"
        },
        {
         "name": "FPS:",
         "rawType": "float64",
         "type": "float"
        },
        {
         "name": "frames_",
         "rawType": "int64",
         "type": "integer"
        }
       ],
       "conversionMethod": "pd.DataFrame",
       "ref": "a24a6c20-0349-40b8-b343-91ae497f34fc",
       "rows": [
        [
         "0",
         "320",
         "240",
         "10.0",
         "528"
        ]
       ],
       "shape": {
        "columns": 4,
        "rows": 1
       }
      },
      "text/html": [
       "<div>\n",
       "<style scoped>\n",
       "    .dataframe tbody tr th:only-of-type {\n",
       "        vertical-align: middle;\n",
       "    }\n",
       "\n",
       "    .dataframe tbody tr th {\n",
       "        vertical-align: top;\n",
       "    }\n",
       "\n",
       "    .dataframe thead th {\n",
       "        text-align: right;\n",
       "    }\n",
       "</style>\n",
       "<table border=\"1\" class=\"dataframe\">\n",
       "  <thead>\n",
       "    <tr style=\"text-align: right;\">\n",
       "      <th></th>\n",
       "      <th>Breite (px)</th>\n",
       "      <th>Höhe (px)</th>\n",
       "      <th>FPS:</th>\n",
       "      <th>frames_</th>\n",
       "    </tr>\n",
       "  </thead>\n",
       "  <tbody>\n",
       "    <tr>\n",
       "      <th>0</th>\n",
       "      <td>320</td>\n",
       "      <td>240</td>\n",
       "      <td>10.0</td>\n",
       "      <td>528</td>\n",
       "    </tr>\n",
       "  </tbody>\n",
       "</table>\n",
       "</div>"
      ],
      "text/plain": [
       "   Breite (px)  Höhe (px)  FPS:  frames_\n",
       "0          320        240  10.0      528"
      ]
     },
     "metadata": {},
     "output_type": "display_data"
    },
    {
     "name": "stdout",
     "output_type": "stream",
     "text": [
      "cap - set\n",
      "cap - read \n"
     ]
    }
   ],
   "source": [
    "#extract single image from video in variable image_example [Image.Image]\n",
    "import pandas as pd\n",
    "\n",
    "path_example = r\"C:\\Users\\lehrm\\Daten\\Arbeit_u_Studium\\Studium\\5_Master_lokal\\repos\\2025_p03_policy_learning\\dataset\\studytable_open_drawer\\videos\\chunk-000\\observation.image.camera1_img\\episode_000002.mp4\"\n",
    "cap = cv2.VideoCapture(path_example)\n",
    "if not cap.isOpened():\n",
    "    print(\"Error: Could not open video.\")\n",
    "width = int(cap.get(cv2.CAP_PROP_FRAME_WIDTH))\n",
    "height = int(cap.get(cv2.CAP_PROP_FRAME_HEIGHT))\n",
    "fps = cap.get(cv2.CAP_PROP_FPS)\n",
    "frame_count = int(cap.get(cv2.CAP_PROP_FRAME_COUNT))\n",
    "\n",
    "df_video_data = pd.DataFrame({\n",
    "        'Breite (px)': [width],\n",
    "        'Höhe (px)': [height],\n",
    "        'FPS:':[fps],\n",
    "        'frames_':[frame_count]\n",
    "    })\n",
    "\n",
    "display(df_video_data)\n",
    "\n",
    "\n",
    "frame_number = 315\n",
    "\n",
    "if frame_number<frame_count:\n",
    "    cap.set(cv2.CAP_PROP_POS_FRAMES, frame_number)\n",
    "    print(\"cap - set\")\n",
    "    ret, frame = cap.read()\n",
    "    print(\"cap - read \")\n",
    "    if ret:             #read was sucesssful\n",
    "        frame_rgb = cv2.cvtColor(frame, cv2.COLOR_BGR2RGB)      #Image as Array with RGB Values\n",
    "        image_example = Image.fromarray(frame_rgb)  \n",
    "        image_example.show()\n",
    "        #image_example.save(r\"C:\\Users\\lehrm\\Downloads\\images\\cam1.jpg\")\n",
    "    else:\n",
    "        print(\"Warning: Frame could not be read!\")\n",
    "\n",
    "\n",
    "cap.release()\n"
   ]
  },
  {
   "cell_type": "markdown",
   "id": "587af7fe",
   "metadata": {},
   "source": [
    "### Test the model application on single image"
   ]
  },
  {
   "cell_type": "code",
   "execution_count": 6,
   "id": "979a68d5",
   "metadata": {},
   "outputs": [
    {
     "name": "stderr",
     "output_type": "stream",
     "text": [
      "Using a slow image processor as `use_fast` is unset and a slow processor was saved with this model. `use_fast=True` will be the default behavior in v4.52, even if the model was saved with a slow processor. This will result in minor differences in outputs. You'll still be able to use a slow processor with `use_fast=False`.\n",
      "Device set to use cpu\n"
     ]
    }
   ],
   "source": [
    "new_image_example = apply_model(image_example,model_selection=prediction_models.DEPTH_ANYTHING_V2)\n",
    "new_image_example.show()\n",
    "#new_image_example.save(r\"C:\\Users\\lehrm\\Downloads\\images\\cam1_depth.jpg\")"
   ]
  },
  {
   "cell_type": "markdown",
   "id": "cb2e7fee",
   "metadata": {},
   "source": [
    "### Simple run on a video - using the test_mode with editing only 5 sec of the given video"
   ]
  },
  {
   "cell_type": "code",
   "execution_count": 51,
   "id": "2b920cab",
   "metadata": {},
   "outputs": [
    {
     "name": "stderr",
     "output_type": "stream",
     "text": [
      "Run through video frame per frame:   0%|          | 0/20 [00:00<?, ?it/s]Device set to use cpu\n",
      "Run through video frame per frame:   5%|▌         | 1/20 [00:03<01:09,  3.64s/it]Device set to use cpu\n",
      "Run through video frame per frame:  10%|█         | 2/20 [00:06<00:59,  3.32s/it]Device set to use cpu\n",
      "Run through video frame per frame:  15%|█▌        | 3/20 [00:10<00:59,  3.52s/it]Device set to use cpu\n",
      "Run through video frame per frame:  20%|██        | 4/20 [00:14<00:57,  3.57s/it]Device set to use cpu\n",
      "Run through video frame per frame:  25%|██▌       | 5/20 [00:18<00:55,  3.73s/it]Device set to use cpu\n",
      "Run through video frame per frame:  30%|███       | 6/20 [00:21<00:52,  3.75s/it]Device set to use cpu\n",
      "Run through video frame per frame:  35%|███▌      | 7/20 [00:25<00:48,  3.72s/it]Device set to use cpu\n",
      "Run through video frame per frame:  40%|████      | 8/20 [00:29<00:44,  3.67s/it]Device set to use cpu\n",
      "Run through video frame per frame:  45%|████▌     | 9/20 [00:32<00:39,  3.59s/it]Device set to use cpu\n",
      "Run through video frame per frame:  50%|█████     | 10/20 [00:36<00:35,  3.56s/it]Device set to use cpu\n",
      "Run through video frame per frame:  55%|█████▌    | 11/20 [00:39<00:31,  3.54s/it]Device set to use cpu\n",
      "Run through video frame per frame:  60%|██████    | 12/20 [00:43<00:28,  3.54s/it]Device set to use cpu\n",
      "Run through video frame per frame:  65%|██████▌   | 13/20 [00:46<00:24,  3.54s/it]Device set to use cpu\n",
      "Run through video frame per frame:  70%|███████   | 14/20 [00:50<00:21,  3.54s/it]Device set to use cpu\n",
      "Run through video frame per frame:  75%|███████▌  | 15/20 [00:53<00:17,  3.52s/it]Device set to use cpu\n",
      "Run through video frame per frame:  80%|████████  | 16/20 [00:57<00:14,  3.73s/it]Device set to use cpu\n",
      "Run through video frame per frame:  85%|████████▌ | 17/20 [01:02<00:11,  3.92s/it]Device set to use cpu\n",
      "Run through video frame per frame:  90%|█████████ | 18/20 [01:06<00:08,  4.16s/it]Device set to use cpu\n",
      "Run through video frame per frame:  95%|█████████▌| 19/20 [01:12<00:04,  4.54s/it]Device set to use cpu\n",
      "Run through video frame per frame: 100%|██████████| 20/20 [01:16<00:00,  3.82s/it]\n"
     ]
    }
   ],
   "source": [
    "path_output = r\"C:\\Users\\lehrm\\Daten\\Arbeit_u_Studium\\Studium\\5_Master_lokal\\repos\\2025_p03_policy_learning\\output\\grayscale2.mp4\"\n",
    "convert_video(path_example, path_output,prediction_models.DEPTH_ANYTHING_V2,test_mode=True)"
   ]
  },
  {
   "cell_type": "markdown",
   "id": "a2db7f07",
   "metadata": {},
   "source": [
    "### Test Datei-Filter"
   ]
  },
  {
   "cell_type": "code",
   "execution_count": null,
   "id": "ba0141e2",
   "metadata": {},
   "outputs": [
    {
     "name": "stdout",
     "output_type": "stream",
     "text": [
      "C:\\Users\\lehrm\\Daten\\Arbeit_u_Studium\\Studium\\5_Master_lokal\\repos\\2025_p03_policy_learning\\dataset\\studytable_open_drawer\\videos\\chunk-000\\observation.image.camera1_img\\episode_000000.mp4\n",
      "C:\\Users\\lehrm\\Daten\\Arbeit_u_Studium\\Studium\\5_Master_lokal\\repos\\2025_p03_policy_learning\\dataset\\studytable_open_drawer\\videos\\chunk-000\\observation.image.camera1_img\\episode_000001.mp4\n",
      "C:\\Users\\lehrm\\Daten\\Arbeit_u_Studium\\Studium\\5_Master_lokal\\repos\\2025_p03_policy_learning\\dataset\\studytable_open_drawer\\videos\\chunk-000\\observation.image.camera1_img\\episode_000002.mp4\n",
      "C:\\Users\\lehrm\\Daten\\Arbeit_u_Studium\\Studium\\5_Master_lokal\\repos\\2025_p03_policy_learning\\dataset\\studytable_open_drawer\\videos\\chunk-000\\observation.image.camera1_img\\episode_000003.mp4\n",
      "C:\\Users\\lehrm\\Daten\\Arbeit_u_Studium\\Studium\\5_Master_lokal\\repos\\2025_p03_policy_learning\\dataset\\studytable_open_drawer\\videos\\chunk-000\\observation.image.camera1_img\\episode_000004.mp4\n",
      "C:\\Users\\lehrm\\Daten\\Arbeit_u_Studium\\Studium\\5_Master_lokal\\repos\\2025_p03_policy_learning\\dataset\\studytable_open_drawer\\videos\\chunk-000\\observation.image.camera1_img\\episode_000005.mp4\n",
      "C:\\Users\\lehrm\\Daten\\Arbeit_u_Studium\\Studium\\5_Master_lokal\\repos\\2025_p03_policy_learning\\dataset\\studytable_open_drawer\\videos\\chunk-000\\observation.image.camera1_img\\episode_000006.mp4\n",
      "C:\\Users\\lehrm\\Daten\\Arbeit_u_Studium\\Studium\\5_Master_lokal\\repos\\2025_p03_policy_learning\\dataset\\studytable_open_drawer\\videos\\chunk-000\\observation.image.camera1_img\\episode_000007.mp4\n",
      "C:\\Users\\lehrm\\Daten\\Arbeit_u_Studium\\Studium\\5_Master_lokal\\repos\\2025_p03_policy_learning\\dataset\\studytable_open_drawer\\videos\\chunk-000\\observation.image.camera1_img\\episode_000008.mp4\n",
      "C:\\Users\\lehrm\\Daten\\Arbeit_u_Studium\\Studium\\5_Master_lokal\\repos\\2025_p03_policy_learning\\dataset\\studytable_open_drawer\\videos\\chunk-000\\observation.image.camera1_img\\episode_000009.mp4\n",
      "C:\\Users\\lehrm\\Daten\\Arbeit_u_Studium\\Studium\\5_Master_lokal\\repos\\2025_p03_policy_learning\\dataset\\studytable_open_drawer\\videos\\chunk-000\\observation.image.camera1_img\\episode_000010.mp4\n",
      "C:\\Users\\lehrm\\Daten\\Arbeit_u_Studium\\Studium\\5_Master_lokal\\repos\\2025_p03_policy_learning\\dataset\\studytable_open_drawer\\videos\\chunk-000\\observation.image.camera1_img\\episode_000011.mp4\n",
      "C:\\Users\\lehrm\\Daten\\Arbeit_u_Studium\\Studium\\5_Master_lokal\\repos\\2025_p03_policy_learning\\dataset\\studytable_open_drawer\\videos\\chunk-000\\observation.image.camera1_img\\episode_000012.mp4\n",
      "C:\\Users\\lehrm\\Daten\\Arbeit_u_Studium\\Studium\\5_Master_lokal\\repos\\2025_p03_policy_learning\\dataset\\studytable_open_drawer\\videos\\chunk-000\\observation.image.camera1_img\\episode_000013.mp4\n",
      "C:\\Users\\lehrm\\Daten\\Arbeit_u_Studium\\Studium\\5_Master_lokal\\repos\\2025_p03_policy_learning\\dataset\\studytable_open_drawer\\videos\\chunk-000\\observation.image.camera1_img\\episode_000014.mp4\n",
      "C:\\Users\\lehrm\\Daten\\Arbeit_u_Studium\\Studium\\5_Master_lokal\\repos\\2025_p03_policy_learning\\dataset\\studytable_open_drawer\\videos\\chunk-000\\observation.image.camera1_img\\episode_000015.mp4\n",
      "C:\\Users\\lehrm\\Daten\\Arbeit_u_Studium\\Studium\\5_Master_lokal\\repos\\2025_p03_policy_learning\\dataset\\studytable_open_drawer\\videos\\chunk-000\\observation.image.camera1_img\\episode_000016.mp4\n",
      "C:\\Users\\lehrm\\Daten\\Arbeit_u_Studium\\Studium\\5_Master_lokal\\repos\\2025_p03_policy_learning\\dataset\\studytable_open_drawer\\videos\\chunk-000\\observation.image.camera1_img\\episode_000017.mp4\n",
      "C:\\Users\\lehrm\\Daten\\Arbeit_u_Studium\\Studium\\5_Master_lokal\\repos\\2025_p03_policy_learning\\dataset\\studytable_open_drawer\\videos\\chunk-000\\observation.image.camera1_img\\episode_000018.mp4\n",
      "C:\\Users\\lehrm\\Daten\\Arbeit_u_Studium\\Studium\\5_Master_lokal\\repos\\2025_p03_policy_learning\\dataset\\studytable_open_drawer\\videos\\chunk-000\\observation.image.camera1_img\\episode_000019.mp4\n",
      "C:\\Users\\lehrm\\Daten\\Arbeit_u_Studium\\Studium\\5_Master_lokal\\repos\\2025_p03_policy_learning\\dataset\\studytable_open_drawer\\videos\\chunk-000\\observation.image.camera1_img\\episode_000020.mp4\n",
      "C:\\Users\\lehrm\\Daten\\Arbeit_u_Studium\\Studium\\5_Master_lokal\\repos\\2025_p03_policy_learning\\dataset\\studytable_open_drawer\\videos\\chunk-000\\observation.image.camera1_img\\episode_000021.mp4\n",
      "C:\\Users\\lehrm\\Daten\\Arbeit_u_Studium\\Studium\\5_Master_lokal\\repos\\2025_p03_policy_learning\\dataset\\studytable_open_drawer\\videos\\chunk-000\\observation.image.camera1_img\\episode_000022.mp4\n",
      "C:\\Users\\lehrm\\Daten\\Arbeit_u_Studium\\Studium\\5_Master_lokal\\repos\\2025_p03_policy_learning\\dataset\\studytable_open_drawer\\videos\\chunk-000\\observation.image.camera1_img\\episode_000023.mp4\n",
      "C:\\Users\\lehrm\\Daten\\Arbeit_u_Studium\\Studium\\5_Master_lokal\\repos\\2025_p03_policy_learning\\dataset\\studytable_open_drawer\\videos\\chunk-000\\observation.image.camera1_img\\episode_000024.mp4\n",
      "C:\\Users\\lehrm\\Daten\\Arbeit_u_Studium\\Studium\\5_Master_lokal\\repos\\2025_p03_policy_learning\\dataset\\studytable_open_drawer\\videos\\chunk-000\\observation.image.camera1_img\\episode_000025.mp4\n",
      "C:\\Users\\lehrm\\Daten\\Arbeit_u_Studium\\Studium\\5_Master_lokal\\repos\\2025_p03_policy_learning\\dataset\\studytable_open_drawer\\videos\\chunk-000\\observation.image.camera1_img\\episode_000026.mp4\n",
      "C:\\Users\\lehrm\\Daten\\Arbeit_u_Studium\\Studium\\5_Master_lokal\\repos\\2025_p03_policy_learning\\dataset\\studytable_open_drawer\\videos\\chunk-000\\observation.image.camera1_img\\episode_000027.mp4\n",
      "C:\\Users\\lehrm\\Daten\\Arbeit_u_Studium\\Studium\\5_Master_lokal\\repos\\2025_p03_policy_learning\\dataset\\studytable_open_drawer\\videos\\chunk-000\\observation.image.camera1_img\\episode_000028.mp4\n",
      "C:\\Users\\lehrm\\Daten\\Arbeit_u_Studium\\Studium\\5_Master_lokal\\repos\\2025_p03_policy_learning\\dataset\\studytable_open_drawer\\videos\\chunk-000\\observation.image.camera1_img\\episode_000029.mp4\n",
      "C:\\Users\\lehrm\\Daten\\Arbeit_u_Studium\\Studium\\5_Master_lokal\\repos\\2025_p03_policy_learning\\dataset\\studytable_open_drawer\\videos\\chunk-000\\observation.image.camera1_img\\episode_000030.mp4\n",
      "C:\\Users\\lehrm\\Daten\\Arbeit_u_Studium\\Studium\\5_Master_lokal\\repos\\2025_p03_policy_learning\\dataset\\studytable_open_drawer\\videos\\chunk-000\\observation.image.camera1_img\\episode_000031.mp4\n",
      "C:\\Users\\lehrm\\Daten\\Arbeit_u_Studium\\Studium\\5_Master_lokal\\repos\\2025_p03_policy_learning\\dataset\\studytable_open_drawer\\videos\\chunk-000\\observation.image.camera1_img\\episode_000032.mp4\n",
      "C:\\Users\\lehrm\\Daten\\Arbeit_u_Studium\\Studium\\5_Master_lokal\\repos\\2025_p03_policy_learning\\dataset\\studytable_open_drawer\\videos\\chunk-000\\observation.image.camera1_img\\episode_000033.mp4\n",
      "C:\\Users\\lehrm\\Daten\\Arbeit_u_Studium\\Studium\\5_Master_lokal\\repos\\2025_p03_policy_learning\\dataset\\studytable_open_drawer\\videos\\chunk-000\\observation.image.camera1_img\\episode_000034.mp4\n",
      "C:\\Users\\lehrm\\Daten\\Arbeit_u_Studium\\Studium\\5_Master_lokal\\repos\\2025_p03_policy_learning\\dataset\\studytable_open_drawer\\videos\\chunk-000\\observation.image.camera1_img\\episode_000035.mp4\n",
      "C:\\Users\\lehrm\\Daten\\Arbeit_u_Studium\\Studium\\5_Master_lokal\\repos\\2025_p03_policy_learning\\dataset\\studytable_open_drawer\\videos\\chunk-000\\observation.image.camera1_img\\episode_000036.mp4\n",
      "C:\\Users\\lehrm\\Daten\\Arbeit_u_Studium\\Studium\\5_Master_lokal\\repos\\2025_p03_policy_learning\\dataset\\studytable_open_drawer\\videos\\chunk-000\\observation.image.camera1_img\\episode_000037.mp4\n",
      "C:\\Users\\lehrm\\Daten\\Arbeit_u_Studium\\Studium\\5_Master_lokal\\repos\\2025_p03_policy_learning\\dataset\\studytable_open_drawer\\videos\\chunk-000\\observation.image.camera1_img\\episode_000038.mp4\n",
      "C:\\Users\\lehrm\\Daten\\Arbeit_u_Studium\\Studium\\5_Master_lokal\\repos\\2025_p03_policy_learning\\dataset\\studytable_open_drawer\\videos\\chunk-000\\observation.image.camera1_img\\episode_000039.mp4\n",
      "C:\\Users\\lehrm\\Daten\\Arbeit_u_Studium\\Studium\\5_Master_lokal\\repos\\2025_p03_policy_learning\\dataset\\studytable_open_drawer\\videos\\chunk-000\\observation.image.camera1_img\\episode_000040.mp4\n",
      "C:\\Users\\lehrm\\Daten\\Arbeit_u_Studium\\Studium\\5_Master_lokal\\repos\\2025_p03_policy_learning\\dataset\\studytable_open_drawer\\videos\\chunk-000\\observation.image.camera1_img\\episode_000041.mp4\n",
      "C:\\Users\\lehrm\\Daten\\Arbeit_u_Studium\\Studium\\5_Master_lokal\\repos\\2025_p03_policy_learning\\dataset\\studytable_open_drawer\\videos\\chunk-000\\observation.image.camera1_img\\episode_000042.mp4\n",
      "C:\\Users\\lehrm\\Daten\\Arbeit_u_Studium\\Studium\\5_Master_lokal\\repos\\2025_p03_policy_learning\\dataset\\studytable_open_drawer\\videos\\chunk-000\\observation.image.camera1_img\\episode_000043.mp4\n",
      "C:\\Users\\lehrm\\Daten\\Arbeit_u_Studium\\Studium\\5_Master_lokal\\repos\\2025_p03_policy_learning\\dataset\\studytable_open_drawer\\videos\\chunk-000\\observation.image.camera1_img\\episode_000044.mp4\n",
      "C:\\Users\\lehrm\\Daten\\Arbeit_u_Studium\\Studium\\5_Master_lokal\\repos\\2025_p03_policy_learning\\dataset\\studytable_open_drawer\\videos\\chunk-000\\observation.image.camera1_img\\episode_000045.mp4\n",
      "C:\\Users\\lehrm\\Daten\\Arbeit_u_Studium\\Studium\\5_Master_lokal\\repos\\2025_p03_policy_learning\\dataset\\studytable_open_drawer\\videos\\chunk-000\\observation.image.camera1_img\\episode_000046.mp4\n",
      "C:\\Users\\lehrm\\Daten\\Arbeit_u_Studium\\Studium\\5_Master_lokal\\repos\\2025_p03_policy_learning\\dataset\\studytable_open_drawer\\videos\\chunk-000\\observation.image.camera1_img\\episode_000047.mp4\n",
      "C:\\Users\\lehrm\\Daten\\Arbeit_u_Studium\\Studium\\5_Master_lokal\\repos\\2025_p03_policy_learning\\dataset\\studytable_open_drawer\\videos\\chunk-000\\observation.image.camera1_img\\episode_000048.mp4\n",
      "C:\\Users\\lehrm\\Daten\\Arbeit_u_Studium\\Studium\\5_Master_lokal\\repos\\2025_p03_policy_learning\\dataset\\studytable_open_drawer\\videos\\chunk-000\\observation.image.camera1_img\\episode_000049.mp4\n"
     ]
    }
   ],
   "source": [
    "import glob\n",
    "import os\n",
    "\n",
    "path_file_dir = r\"C:\\Users\\lehrm\\Daten\\Arbeit_u_Studium\\Studium\\5_Master_lokal\\repos\\2025_p03_policy_learning\\dataset\\studytable_open_drawer\\videos\\chunk-000\\observation.image.camera1_img\"\n",
    "\n",
    "mp4_files = glob.glob(os.path.join(path_file_dir,\"*.mp4\"))\n",
    "\n",
    "for datei in mp4_files:\n",
    "    print(datei)"
   ]
  }
 ],
 "metadata": {
  "kernelspec": {
   "display_name": ".venv",
   "language": "python",
   "name": "python3"
  },
  "language_info": {
   "codemirror_mode": {
    "name": "ipython",
    "version": 3
   },
   "file_extension": ".py",
   "mimetype": "text/x-python",
   "name": "python",
   "nbconvert_exporter": "python",
   "pygments_lexer": "ipython3",
   "version": "3.13.3"
  }
 },
 "nbformat": 4,
 "nbformat_minor": 5
}
